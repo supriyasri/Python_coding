{
  "nbformat": 4,
  "nbformat_minor": 0,
  "metadata": {
    "colab": {
      "provenance": []
    },
    "kernelspec": {
      "name": "python3",
      "display_name": "Python 3"
    },
    "language_info": {
      "name": "python"
    }
  },
  "cells": [
    {
      "cell_type": "code",
      "execution_count": null,
      "metadata": {
        "colab": {
          "base_uri": "https://localhost:8080/"
        },
        "id": "XumoJTi8EGGE",
        "outputId": "1871b31c-65ae-429d-9203-f8c1344ce3cb"
      },
      "outputs": [
        {
          "output_type": "stream",
          "name": "stdout",
          "text": [
            "Hello world\n"
          ]
        }
      ],
      "source": [
        "print(\"Hello world\");\n",
        "# Output the random string using the function PRINT"
      ]
    },
    {
      "cell_type": "markdown",
      "source": [],
      "metadata": {
        "id": "eREpDBxQEV6n"
      }
    },
    {
      "cell_type": "markdown",
      "source": [
        "# Introduce the Input value and a function to return the input dynamically from user\n"
      ],
      "metadata": {
        "id": "8uQ7sjOVEG6B"
      }
    },
    {
      "cell_type": "code",
      "source": [
        "x=input(\"Tell me your name, \") # x is a variable that stores the name of a person\n",
        "print(x) # prints the value stored in a variable x\n",
        "print(\"hello\", x) #prints the value as per the required format\n",
        "print(\"hello valuable member \"+ x) #concatenation of different strings to display the output"
      ],
      "metadata": {
        "colab": {
          "base_uri": "https://localhost:8080/"
        },
        "id": "XrWk6pDMEcnw",
        "outputId": "a5a9379b-dcc4-4783-feb9-2f4fc3a1272a"
      },
      "execution_count": null,
      "outputs": [
        {
          "output_type": "stream",
          "name": "stdout",
          "text": [
            "Tell me your name, Priya\n",
            "Priya\n",
            "hello Priya\n",
            "hello valuable member Priya\n"
          ]
        }
      ]
    },
    {
      "cell_type": "markdown",
      "source": [
        "# syntax of python\n",
        "print(*objects,sep=' ',end='\\n', file=sys.stdout,flush=False)\n",
        "# END- ending with a new line\n",
        "seperator is single quotes with a space\n",
        "\n",
        "#SEP- seperator between each argument"
      ],
      "metadata": {
        "id": "K54cKYvf4ClG"
      }
    },
    {
      "cell_type": "code",
      "source": [
        "print(\"hello\")\n",
        "print(x)\n",
        "# so, every PRINT statement is executing in new line as per syntax\n"
      ],
      "metadata": {
        "colab": {
          "base_uri": "https://localhost:8080/"
        },
        "id": "vmpDOJN-3Rwh",
        "outputId": "d9c33230-e805-40bc-d04b-03a21e562c74"
      },
      "execution_count": null,
      "outputs": [
        {
          "output_type": "stream",
          "name": "stdout",
          "text": [
            "hello\n",
            "Priya\n"
          ]
        }
      ]
    },
    {
      "cell_type": "code",
      "source": [
        "# Requirement- to display both the PRINT statements in the same line\n",
        "print(\"hello\", end=\" \") # instead of new line, END is hot coded with a SPACE\n",
        "print(x)"
      ],
      "metadata": {
        "colab": {
          "base_uri": "https://localhost:8080/"
        },
        "id": "sjxyAI_YEjtW",
        "outputId": "5ab83e6c-683a-4494-c774-495baa148669"
      },
      "execution_count": null,
      "outputs": [
        {
          "output_type": "stream",
          "name": "stdout",
          "text": [
            "hello Priya\n"
          ]
        }
      ]
    },
    {
      "cell_type": "code",
      "source": [
        "# let's use seperator and multiple arguments\n",
        "print(\"hello\",\"world\", x, sep=\"$$$\")\n",
        "#output is displayed with a seperator between two arguments"
      ],
      "metadata": {
        "colab": {
          "base_uri": "https://localhost:8080/"
        },
        "id": "ucaVYaMv6OW0",
        "outputId": "57ec38e0-dad2-43cf-b9a9-7123ea547944"
      },
      "execution_count": null,
      "outputs": [
        {
          "output_type": "stream",
          "name": "stdout",
          "text": [
            "hello$$$world$$$Priya\n"
          ]
        }
      ]
    },
    {
      "cell_type": "code",
      "source": [
        "print(f\"hello,{x}\")\n",
        "#f stands for FORMAT\n",
        "#special string is {x}\n",
        "#Formatting the special string option is available"
      ],
      "metadata": {
        "colab": {
          "base_uri": "https://localhost:8080/"
        },
        "id": "x98j4L5R7FLY",
        "outputId": "1b7f256c-b68f-4d1b-9a39-85e01dcebe8f"
      },
      "execution_count": null,
      "outputs": [
        {
          "output_type": "stream",
          "name": "stdout",
          "text": [
            "hello,Priya\n"
          ]
        }
      ]
    },
    {
      "cell_type": "markdown",
      "source": [
        "# Introduction of OPERATORS into the coding\n",
        "# let's create a python calculator using OPERATORS"
      ],
      "metadata": {
        "id": "84mxOvM0WGmK"
      }
    },
    {
      "cell_type": "code",
      "source": [
        "\n",
        "x=input(\"ask user for value of x  \")\n",
        "y=input(\"ask user for value of y  \")\n",
        "print(x+y) # here PRINT function just did the CONCATENATION of two strings\n",
        "#ideal expectation to add the numbers\n"
      ],
      "metadata": {
        "id": "94Ks-cSN8m0Y",
        "colab": {
          "base_uri": "https://localhost:8080/"
        },
        "outputId": "484b0972-9e6d-46f5-d2cb-ca405089cee6"
      },
      "execution_count": null,
      "outputs": [
        {
          "output_type": "stream",
          "name": "stdout",
          "text": [
            "ask user for value of x  5\n",
            "ask user for value of y  7\n",
            "57\n"
          ]
        }
      ]
    },
    {
      "cell_type": "markdown",
      "source": [
        "# to avoid the confusion, let's define the variable as a number"
      ],
      "metadata": {
        "id": "_5yfipDSaj5g"
      }
    },
    {
      "cell_type": "code",
      "source": [
        "\n",
        "x=int(input(\"ask user for value of x\"))\n",
        "y=int(input(\"ask user for value of y\"))\n",
        "print(x+y) # perfect addition happened\n",
        "print(x-y)\n",
        "print(x*y)\n",
        "print(x/y)\n",
        "print(round(x/y)) # just does the rounding"
      ],
      "metadata": {
        "colab": {
          "base_uri": "https://localhost:8080/"
        },
        "id": "QfCxjmVkaPD1",
        "outputId": "9f054432-90d9-46d6-efc5-28b4b4877e1b"
      },
      "execution_count": null,
      "outputs": [
        {
          "output_type": "stream",
          "name": "stdout",
          "text": [
            "ask user for value of x78\n",
            "ask user for value of y34\n",
            "112\n",
            "44\n",
            "2652\n",
            "2.2941176470588234\n",
            "2\n"
          ]
        }
      ]
    },
    {
      "cell_type": "markdown",
      "source": [],
      "metadata": {
        "id": "Ewj7TtVya6wV"
      }
    },
    {
      "cell_type": "code",
      "source": [
        "m=int(input(\"ask user for value of x \" ))\n",
        "n=int(input(\"ask user for value of y \"))\n",
        "z=round(m/n , 3)\n",
        "print(z)"
      ],
      "metadata": {
        "id": "RCKtKcAhapyP",
        "colab": {
          "base_uri": "https://localhost:8080/"
        },
        "outputId": "9201768b-f966-409a-d5e8-2d3d48bd8a45"
      },
      "execution_count": null,
      "outputs": [
        {
          "output_type": "stream",
          "name": "stdout",
          "text": [
            "ask user for value of x 5\n",
            "ask user for value of y 7\n",
            "0.714\n"
          ]
        }
      ]
    },
    {
      "cell_type": "code",
      "source": [
        "m=int(input(\"ask user for value of x \" ))\n",
        "n=int(input(\"ask user for value of y \"))\n",
        "z=round(m/n , 3)\n",
        "print(z)\n",
        "print(f\"{z}\") # declaring f string - special string\n",
        "print(f\"{z:.2f}\") # rounds up until 2 digits only"
      ],
      "metadata": {
        "colab": {
          "base_uri": "https://localhost:8080/"
        },
        "id": "OzgHNRuLgEcz",
        "outputId": "63e729e5-efe2-46b5-d1f0-f9091755dc0f"
      },
      "execution_count": null,
      "outputs": [
        {
          "output_type": "stream",
          "name": "stdout",
          "text": [
            "ask user for value of x 5\n",
            "ask user for value of y 6\n",
            "0.833\n",
            "0.833\n",
            "0.83\n"
          ]
        }
      ]
    },
    {
      "cell_type": "markdown",
      "source": [
        "Introducing function into existence"
      ],
      "metadata": {
        "id": "0F5p5NfKmhiw"
      }
    },
    {
      "cell_type": "code",
      "source": [
        "x=input(\" what's your name ? \")\n",
        "hello() # this funcion does not exist - hence error is popping up\n",
        "print(x)"
      ],
      "metadata": {
        "colab": {
          "base_uri": "https://localhost:8080/",
          "height": 228
        },
        "id": "tmez5mYYlZrZ",
        "outputId": "afd692a4-bd9d-48b7-d698-cb2836769518"
      },
      "execution_count": null,
      "outputs": [
        {
          "name": "stdout",
          "output_type": "stream",
          "text": [
            " what's your name ? Priya\n"
          ]
        },
        {
          "output_type": "error",
          "ename": "NameError",
          "evalue": "name 'hello' is not defined",
          "traceback": [
            "\u001b[0;31m---------------------------------------------------------------------------\u001b[0m",
            "\u001b[0;31mNameError\u001b[0m                                 Traceback (most recent call last)",
            "\u001b[0;32m<ipython-input-5-64aaea8c0444>\u001b[0m in \u001b[0;36m<cell line: 2>\u001b[0;34m()\u001b[0m\n\u001b[1;32m      1\u001b[0m \u001b[0mx\u001b[0m\u001b[0;34m=\u001b[0m\u001b[0minput\u001b[0m\u001b[0;34m(\u001b[0m\u001b[0;34m\" what's your name ? \"\u001b[0m\u001b[0;34m)\u001b[0m\u001b[0;34m\u001b[0m\u001b[0;34m\u001b[0m\u001b[0m\n\u001b[0;32m----> 2\u001b[0;31m \u001b[0mhello\u001b[0m\u001b[0;34m(\u001b[0m\u001b[0;34m)\u001b[0m\u001b[0;34m\u001b[0m\u001b[0;34m\u001b[0m\u001b[0m\n\u001b[0m\u001b[1;32m      3\u001b[0m \u001b[0mprint\u001b[0m\u001b[0;34m(\u001b[0m\u001b[0mx\u001b[0m\u001b[0;34m)\u001b[0m\u001b[0;34m\u001b[0m\u001b[0;34m\u001b[0m\u001b[0m\n",
            "\u001b[0;31mNameError\u001b[0m: name 'hello' is not defined"
          ]
        }
      ]
    },
    {
      "cell_type": "code",
      "source": [
        "def hello():            # defined the function hello\n",
        "    print(\"hello user\")\n",
        "\n",
        "x=input(\"what's your name? \")\n",
        "hello()                # calling the function hello\n",
        "print(x)"
      ],
      "metadata": {
        "colab": {
          "base_uri": "https://localhost:8080/"
        },
        "id": "DwdgIMMnmod8",
        "outputId": "09095a33-9f8a-441a-fbf8-68f5844c3e06"
      },
      "execution_count": null,
      "outputs": [
        {
          "output_type": "stream",
          "name": "stdout",
          "text": [
            "what's your name? Priya\n",
            "hello user\n",
            "Priya\n"
          ]
        }
      ]
    },
    {
      "cell_type": "code",
      "source": [
        "def hello(mnz):      # mnz is a parameter\n",
        "  print(\"hello\",mnz) # added mnz as a second argument\n",
        "\n",
        "x=input(\"what's your name ? \")\n",
        "hello(x)            # calling the function to execute the block of instructions\n",
        "                    # variable x is copied to the parameter mnz- so the block executes with the value of mnz\n"
      ],
      "metadata": {
        "colab": {
          "base_uri": "https://localhost:8080/"
        },
        "id": "nt2bvGaTnW2W",
        "outputId": "d7175bff-c964-485f-f76f-4a3bac26eb15"
      },
      "execution_count": null,
      "outputs": [
        {
          "output_type": "stream",
          "name": "stdout",
          "text": [
            "what's your name ? Priya\n",
            "hello Priya\n"
          ]
        }
      ]
    },
    {
      "cell_type": "code",
      "source": [
        "# restart from 1.40"
      ],
      "metadata": {
        "id": "H69uHutjo4Z9"
      },
      "execution_count": null,
      "outputs": []
    }
  ]
}