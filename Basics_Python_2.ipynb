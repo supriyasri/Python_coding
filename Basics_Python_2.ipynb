{
  "nbformat": 4,
  "nbformat_minor": 0,
  "metadata": {
    "colab": {
      "provenance": []
    },
    "kernelspec": {
      "name": "python3",
      "display_name": "Python 3"
    },
    "language_info": {
      "name": "python"
    }
  },
  "cells": [
    {
      "cell_type": "code",
      "execution_count": null,
      "metadata": {
        "colab": {
          "base_uri": "https://localhost:8080/"
        },
        "id": "mNT7uVy9tdA6",
        "outputId": "611fa49c-9732-46eb-9bd3-2faea1a46fc5"
      },
      "outputs": [
        {
          "output_type": "stream",
          "name": "stdout",
          "text": [
            "What's x? 50\n",
            " n*n\n",
            "x squared is None\n"
          ]
        }
      ],
      "source": [
        "# Define the function MAIN\n",
        "def main():\n",
        "  x=int(input(\"What's x? \"))\n",
        "  print(\"x squared is\", square(x))\n",
        "\n",
        "#Define function SQUARE\n",
        "def square(n):\n",
        "  print(\" n*n\")           # In Square(n) function block, the output of PRINT is confined to the square function alone. Here scope is limited\n",
        "                          # That's why, the output of square(x) displaying NONE for the function main()\n",
        "#calling the function MAIN\n",
        "main()"
      ]
    },
    {
      "cell_type": "code",
      "source": [
        "# Define the function MAIN\n",
        "def main():\n",
        "  x=int(input(\"What's x? \"))\n",
        "  print(\"x squared is\", square(x))\n",
        "\n",
        "#Define function SQUARE\n",
        "def square(n):\n",
        "  return n*n           # RETURN here helps in transferring the function output of SQUARE in MAIN function\n",
        "\n",
        "#calling the function MAIN\n",
        "main()"
      ],
      "metadata": {
        "colab": {
          "base_uri": "https://localhost:8080/"
        },
        "id": "LYN4kLoPK7XQ",
        "outputId": "a7aea353-79db-4400-f1eb-6f090944a464"
      },
      "execution_count": null,
      "outputs": [
        {
          "output_type": "stream",
          "name": "stdout",
          "text": [
            "What's x? 29\n",
            "x squared is 841\n"
          ]
        }
      ]
    },
    {
      "cell_type": "markdown",
      "source": [
        "Purpose of RETURN\n",
        "# RETURN outputs a value that can be further used in programming\n",
        "Purpose of PRINT function\n",
        "# PRINT outputs a value, but can't be reused"
      ],
      "metadata": {
        "id": "R12Y5Bid2xPY"
      }
    },
    {
      "cell_type": "markdown",
      "source": [
        "Scope - IF scope is limited, to improve the efficiency and reduce lines of code- RETURN\n",
        "# Return- a special statement that  helps to share the function's result back to the caller"
      ],
      "metadata": {
        "id": "xeKI6QXiy10h"
      }
    },
    {
      "cell_type": "code",
      "source": [
        "x=int(input(\"what's x?\"))\n",
        "y=int(input(\"what's y?\"))\n",
        "\n",
        "if x!=y:\n",
        "  print(\"x is not equal to y\")\n",
        "else:\n"
      ],
      "metadata": {
        "id": "gr6nXlNs4SJY"
      },
      "execution_count": null,
      "outputs": []
    },
    {
      "cell_type": "code",
      "source": [
        "\n",
        "# Program to display the grade function of a given student\n",
        "\n",
        "Score = float(input(\"Score: \"))\n",
        "\n",
        "if Score >=90 and Score <=100:\n",
        "  print(\"Grade A\")\n",
        "elif Score >=80 and Score <=90:\n",
        "  print(\"Grade B\")\n",
        "elif Score >=70 and Score <= 80:\n",
        "  print(\"Grade C\")\n",
        "elif Score >=60 and Score <=70:\n",
        "  print(\"Grade D\")\n",
        "else:                           # if no input is shared, this option works\n",
        "  print(\"Grade F\")\n",
        "\n",
        "# the program just repeats once - static\n",
        "#Placing an iterator gives the program run as many times user wants to run - dynamic"
      ],
      "metadata": {
        "id": "x_cC5rGw4STE",
        "colab": {
          "base_uri": "https://localhost:8080/"
        },
        "outputId": "b1e4963f-ea1e-4aa7-a6c2-748060770522"
      },
      "execution_count": null,
      "outputs": [
        {
          "output_type": "stream",
          "name": "stdout",
          "text": [
            "Score: 99.89\n",
            "Grade A\n"
          ]
        }
      ]
    },
    {
      "cell_type": "code",
      "source": [
        "# Modified improvement\n",
        "\n",
        "Score = float(input(\"Score: \"))\n",
        "\n",
        "if Score >=90 :\n",
        "  print(\"Grade A\")\n",
        "elif Score >=80 :\n",
        "  print(\"Grade B\")\n",
        "elif Score >=70 :\n",
        "  print(\"Grade C\")\n",
        "elif Score >=60 :\n",
        "  print(\"Grade D\")\n",
        "else:                           # if no input is shared, this option works\n",
        "  print(\"Grade F\")"
      ],
      "metadata": {
        "colab": {
          "base_uri": "https://localhost:8080/"
        },
        "id": "d5Ns-eJk6w6F",
        "outputId": "5b02e3a6-1a68-40b0-b1c4-bde6e2ba5996"
      },
      "execution_count": null,
      "outputs": [
        {
          "output_type": "stream",
          "name": "stdout",
          "text": [
            "Score: 67.9\n",
            "Grade D\n"
          ]
        }
      ]
    },
    {
      "cell_type": "code",
      "source": [
        "def main():\n",
        "  a=int(input(\"enter the value of x, \"))\n",
        "  if is_even(a):\n",
        "    print(\"x is even\")\n",
        "  else:\n",
        "    print(\"odd\")\n",
        "\n",
        "def is_even(n):     # \"n\" is an argument in the function is_even\n",
        "  if n%2 == 0:\n",
        "    return True\n",
        "  else:\n",
        "    return False\n",
        "\n",
        "\n",
        "\n",
        "main()       #calling the function main to execute\n",
        "\n",
        "# int, float, string, bool - data types in python\n"
      ],
      "metadata": {
        "id": "A3RMGQeAAgAy",
        "colab": {
          "base_uri": "https://localhost:8080/"
        },
        "outputId": "2990111b-105a-4b6f-cff4-2d6f2aa09e3e"
      },
      "execution_count": null,
      "outputs": [
        {
          "output_type": "stream",
          "name": "stdout",
          "text": [
            "enter the value of x, 67\n",
            "odd\n"
          ]
        }
      ]
    },
    {
      "cell_type": "markdown",
      "source": [
        "If you have three or more conditions, usual way of writing code goes with if, else logic.\n",
        "# to write the above conditions a litle more impactful, MATCH key"
      ],
      "metadata": {
        "id": "sQZBfBzlZ_Ip"
      }
    },
    {
      "cell_type": "markdown",
      "source": [],
      "metadata": {
        "id": "LH7GSf0y0oBz"
      }
    },
    {
      "cell_type": "markdown",
      "source": [],
      "metadata": {
        "id": "OAA_CZwP0o-S"
      }
    },
    {
      "cell_type": "markdown",
      "source": [],
      "metadata": {
        "id": "3EmngFPN0pOO"
      }
    },
    {
      "cell_type": "markdown",
      "source": [
        "# Match case is the SWITCH case of Python\n",
        "Steps to execute\n",
        "1- First pass a parameter then try to check with which case the parameter is getting satisfied\n",
        "2-If we find a match we will do something and if there is no match at all we will do something else"
      ],
      "metadata": {
        "id": "bZ7kh1Qa0pzY"
      }
    },
    {
      "cell_type": "code",
      "source": [
        "def provideAccess(user):           # create a function with name provideAccess with an argument USER.\n",
        "    return {                       # This function SCOPE is extended and returns the username and password everytime called\n",
        "        \"username\": user,\n",
        "        \"password\": \"admin\"\n",
        "    }\n",
        "\n",
        "\n",
        "def runMatch():                    # Create a function runMatch\n",
        "    user = str(input(\"Write your username -: \"))\n",
        "\n",
        "    # match statement starts here .\n",
        "    match user:\n",
        "        case \"Om\":\n",
        "            print(\"Om do not have access  to the database \\\n",
        "            only for the api code.\")\n",
        "        case \"Vishal\":\n",
        "            print(\n",
        "                \"Vishal do not have access to the database , \\\n",
        "                only for the frontend code.\")\n",
        "\n",
        "        case \"Rishabh\":\n",
        "            print(\"Rishabh have the access to the database\")\n",
        "            print(provideAccess(\"Rishabh\"))\n",
        "\n",
        "        case _:\n",
        "            print(\"You do not have any access to the code\")\n",
        "\n",
        "\n",
        "if __name__ == \"__main__\":\n",
        "    for _ in range(3):\n",
        "        runMatch()"
      ],
      "metadata": {
        "colab": {
          "base_uri": "https://localhost:8080/"
        },
        "id": "oH0xRfbU072q",
        "outputId": "91afb7ac-10a7-4ea3-95ae-44a2286aca13"
      },
      "execution_count": null,
      "outputs": [
        {
          "output_type": "stream",
          "name": "stdout",
          "text": [
            "Write your username -: PRIYA123\n",
            "You do not have any access to the code\n",
            "Write your username -: Rishabh\n",
            "Rishabh have the access to the database\n",
            "{'username': 'Rishabh', 'password': 'admin'}\n",
            "Write your username -:   \n",
            "You do not have any access to the code\n"
          ]
        }
      ]
    },
    {
      "cell_type": "markdown",
      "source": [
        "# Suppose I need to print the name of an animal / vegetable three times or four times-\n"
      ],
      "metadata": {
        "id": "OON2idby5RvM"
      }
    },
    {
      "cell_type": "code",
      "source": [
        "#method 1( manually typing PRINT statement three times )\n",
        "print(\"Lady's finger\")\n",
        "print(\"Lady's finger\")\n",
        "print(\"Lady's finger\")\n",
        "print(\"LADY'S FINGER \\n\"*3 , end=\"\") # one line to print the requirement , but not dynamic in nature"
      ],
      "metadata": {
        "colab": {
          "base_uri": "https://localhost:8080/"
        },
        "id": "n4T-ViGP0910",
        "outputId": "e7f00272-4d99-4f77-8271-8f46e838f3b2"
      },
      "execution_count": null,
      "outputs": [
        {
          "output_type": "stream",
          "name": "stdout",
          "text": [
            "Lady's finger\n",
            "Lady's finger\n",
            "Lady's finger\n",
            "LADY'S FINGER \n",
            "LADY'S FINGER \n",
            "LADY'S FINGER \n"
          ]
        }
      ]
    },
    {
      "cell_type": "code",
      "source": [
        "# Method 2 ( Using conditional loops)\n",
        "\n",
        "i=int(input(\"enter the value of i \"))\n",
        "while i!=0:\n",
        "  print(\"Lady's finger\")\n",
        "  i=i-1\n"
      ],
      "metadata": {
        "colab": {
          "base_uri": "https://localhost:8080/"
        },
        "id": "RouZvjNq5gzM",
        "outputId": "35cbc7e7-77b4-427c-c1c7-80305a740e44"
      },
      "execution_count": null,
      "outputs": [
        {
          "output_type": "stream",
          "name": "stdout",
          "text": [
            "enter the value of i 5\n",
            "Lady's finger\n",
            "Lady's finger\n",
            "Lady's finger\n",
            "Lady's finger\n",
            "Lady's finger\n"
          ]
        }
      ]
    },
    {
      "cell_type": "markdown",
      "source": [
        "Method 1 is laborious , but Method 2 is dynamic and easy to program\n",
        "# Hence Conditionals is a smart way to code"
      ],
      "metadata": {
        "id": "cKUMIfzK7IKr"
      }
    },
    {
      "cell_type": "code",
      "source": [
        "while True:\n",
        "  n=int(input(\"what's n? \"))\n",
        "  if n >0:\n",
        "    break\n",
        "for i in range(n):\n",
        "  print(\"lady's finger\")"
      ],
      "metadata": {
        "colab": {
          "base_uri": "https://localhost:8080/"
        },
        "id": "ylN2v0tL7EMU",
        "outputId": "da2583e9-b627-45b3-df1c-eca8d968706c"
      },
      "execution_count": null,
      "outputs": [
        {
          "output_type": "stream",
          "name": "stdout",
          "text": [
            "what's n? 6\n",
            "lady's finger\n",
            "lady's finger\n",
            "lady's finger\n",
            "lady's finger\n",
            "lady's finger\n",
            "lady's finger\n"
          ]
        }
      ]
    },
    {
      "cell_type": "markdown",
      "source": [],
      "metadata": {
        "id": "qyhiBQpeISUq"
      }
    },
    {
      "cell_type": "code",
      "source": [
        "# Simple function definition with a multiple if-else statements replaces by Match-case methodology\n",
        "def main_function():\n",
        "  parameter=input(\"Enter the user choice \")\n",
        "\n",
        "  match parameter:\n",
        "    case \"Om\":\n",
        "      print(\"Good Choice\")\n",
        "    case \"Priya\":\n",
        "      print(\"Intelligent girl\")\n",
        "    case _ :\n",
        "      print(\"Give correct input\")\n",
        "\n",
        "main_function()\n"
      ],
      "metadata": {
        "colab": {
          "base_uri": "https://localhost:8080/"
        },
        "id": "WLQTGdxqHJXz",
        "outputId": "20bf526d-ebe2-400b-cf91-8fba3c94807d"
      },
      "execution_count": null,
      "outputs": [
        {
          "output_type": "stream",
          "name": "stdout",
          "text": [
            "Enter the user choice Om\n",
            "Good Choice\n"
          ]
        }
      ]
    },
    {
      "cell_type": "code",
      "source": [],
      "metadata": {
        "id": "Fbak7VTlciKO"
      },
      "execution_count": null,
      "outputs": []
    }
  ]
}